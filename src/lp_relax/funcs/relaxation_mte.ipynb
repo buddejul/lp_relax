{
 "cells": [
  {
   "cell_type": "markdown",
   "metadata": {},
   "source": [
    "# Relaxation - MTE Model\n",
    "\n",
    "The basic idea is to get rid of the kinks in the value function by relaxing the problem.\n",
    "In particular, we relax it to a convex optimization problem.\n",
    "\n",
    "For two variables, the constraints $0 \\leq \\max{x_1, x_2} \\leq 1$ describe a size 1 square in the first quadrant.\n",
    "The idea is, to instead take something like a unit ball centered at 0.5, 0.5, which is strictly larger.\n",
    "In particular, we have $(x_1-0.5)^2 + (x_2-0.5)^2<=1$ as the smallest circle that still includes the old parameter space.\n",
    "\n",
    "Adding this constraint turns the linear program into a convex program, since one of the constraints is no longer linear."
   ]
  },
  {
   "cell_type": "code",
   "execution_count": null,
   "metadata": {},
   "outputs": [],
   "source": [
    "%load_ext autoreload\n",
    "%autoreload 2\n",
    "\n",
    "\n",
    "import optimagic as om\n",
    "\n",
    "from lp_relax.funcs.lp_relax import solve_lp_convex"
   ]
  },
  {
   "cell_type": "code",
   "execution_count": null,
   "metadata": {},
   "outputs": [],
   "source": [
    "k_bernstein = 3\n",
    "num_dims = 2 * (k_bernstein + 1)\n",
    "\n",
    "k_approximation = 2\n",
    "\n",
    "beta = 0.5\n",
    "\n",
    "common_kwargs = {\n",
    "    \"beta\": beta,\n",
    "    \"k_bernstein\": k_bernstein,\n",
    "    \"k_approximation\": k_approximation,\n",
    "    \"algorithm\": \"\",\n",
    "}"
   ]
  },
  {
   "cell_type": "code",
   "execution_count": null,
   "metadata": {},
   "outputs": [],
   "source": [
    "opt_scipy = solve_lp_convex(\n",
    "    beta=beta,\n",
    "    k_bernstein=k_bernstein,\n",
    "    k_approximation=4,\n",
    "    algorithm=\"\",\n",
    "    return_optimizer=True,\n",
    "    scipy=True,\n",
    ")\n",
    "opt_om = solve_lp_convex(\n",
    "    beta=beta,\n",
    "    k_bernstein=k_bernstein,\n",
    "    k_approximation=4,\n",
    "    algorithm=\"\",\n",
    "    return_optimizer=True,\n",
    "    scipy=False,\n",
    ")"
   ]
  },
  {
   "cell_type": "code",
   "execution_count": null,
   "metadata": {},
   "outputs": [],
   "source": [
    "algos = [\"scipy_cobyla\", \"scipy_slsqp\", \"scipy_trust_constr\"]\n",
    "\n",
    "\n",
    "methods_scipy = [\"COBYLA\", \"COBYQA\", \"SLSQP\", \"trust-constr\"]"
   ]
  },
  {
   "cell_type": "code",
   "execution_count": null,
   "metadata": {},
   "outputs": [],
   "source": [
    "opt_scipy(method=\"trust-constr\")"
   ]
  },
  {
   "cell_type": "code",
   "execution_count": null,
   "metadata": {},
   "outputs": [],
   "source": [
    "results = {}\n",
    "for algo in algos:\n",
    "    results[algo] = opt_om(algorithm=algo)"
   ]
  },
  {
   "cell_type": "code",
   "execution_count": null,
   "metadata": {},
   "outputs": [],
   "source": [
    "fig = om.criterion_plot(results, max_evaluations=300)\n",
    "# Cut y-axis at 0 to 1\n",
    "fig.update_yaxes(range=[0, 1])\n",
    "fig.show()"
   ]
  },
  {
   "cell_type": "code",
   "execution_count": null,
   "metadata": {},
   "outputs": [],
   "source": [
    "opt_om(algorithm=\"scipy_slsqp\")"
   ]
  },
  {
   "cell_type": "code",
   "execution_count": null,
   "metadata": {},
   "outputs": [],
   "source": []
  }
 ],
 "metadata": {
  "language_info": {
   "codemirror_mode": {
    "name": "ipython",
    "version": 3
   },
   "file_extension": ".py",
   "mimetype": "text/x-python",
   "name": "python",
   "nbconvert_exporter": "python",
   "pygments_lexer": "ipython3"
  }
 },
 "nbformat": 4,
 "nbformat_minor": 2
}
