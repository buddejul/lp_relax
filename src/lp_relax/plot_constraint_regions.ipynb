{
 "cells": [
  {
   "cell_type": "code",
   "execution_count": null,
   "metadata": {},
   "outputs": [],
   "source": []
  },
  {
   "cell_type": "code",
   "execution_count": null,
   "metadata": {},
   "outputs": [],
   "source": [
    "%load_ext autoreload\n",
    "%autoreload 2\n",
    "\n",
    "import numpy as np\n",
    "import plotly.graph_objects as go\n",
    "\n",
    "from lp_relax.funcs.lp_relax import (\n",
    "    generate_poly_constraints,\n",
    "    generate_poly_constraints_new,\n",
    "    generate_sphere_constraint,\n",
    ")"
   ]
  },
  {
   "cell_type": "code",
   "execution_count": null,
   "metadata": {},
   "outputs": [],
   "source": [
    "num_dims = 2\n",
    "\n",
    "constraints_poly = generate_poly_constraints(num_dims=num_dims)\n",
    "constraints_poly_new = generate_poly_constraints_new(num_dims=num_dims, s=100)\n",
    "constraints_sphere = generate_sphere_constraint(num_dims=num_dims, k=4)"
   ]
  },
  {
   "cell_type": "code",
   "execution_count": null,
   "metadata": {},
   "outputs": [],
   "source": [
    "def plot_feasible_region(constraints: list, num_points: int = 100):\n",
    "    \"\"\"Plots feasible region.\"\"\"\n",
    "    fig = go.Figure()\n",
    "\n",
    "    x, y = np.meshgrid(\n",
    "        np.linspace(-0.5, 1.5, num_points), np.linspace(-0.5, 1.5, num_points)\n",
    "    )\n",
    "\n",
    "    x = x.flatten()\n",
    "    y = y.flatten()\n",
    "\n",
    "    points = np.vstack([x, y]).T\n",
    "\n",
    "    z = np.zeros_like(x)\n",
    "\n",
    "    for i in range(len(x)):\n",
    "        z[i] = np.min([c.func(points[i]) <= c.upper_bound for c in constraints])\n",
    "\n",
    "    # Plot x,y if z == 0, infeasible\n",
    "    fig.add_trace(\n",
    "        go.Scatter(\n",
    "            x=x[z == 0],\n",
    "            y=y[z == 0],\n",
    "            mode=\"markers\",\n",
    "            marker=dict(color=\"red\"),\n",
    "            name=\"Infeasible\",\n",
    "        )\n",
    "    )\n",
    "\n",
    "    # Plot x,y if z == 1, feasible\n",
    "    fig.add_trace(\n",
    "        go.Scatter(\n",
    "            x=x[z == 1],\n",
    "            y=y[z == 1],\n",
    "            mode=\"markers\",\n",
    "            marker=dict(color=\"green\"),\n",
    "            name=\"Feasible\",\n",
    "        )\n",
    "    )\n",
    "\n",
    "    # Make the figure quadratic\n",
    "    fig.update_layout(\n",
    "        autosize=False,\n",
    "        width=600,\n",
    "        height=600,\n",
    "        margin={\"l\": 0, \"r\": 0, \"b\": 0, \"t\": 0},\n",
    "    )\n",
    "\n",
    "    fig.show()"
   ]
  },
  {
   "cell_type": "code",
   "execution_count": null,
   "metadata": {},
   "outputs": [],
   "source": [
    "(\n",
    "    plot_feasible_region(constraints_poly, 100),\n",
    "    plot_feasible_region(constraints_poly_new, 100),\n",
    ")"
   ]
  },
  {
   "cell_type": "code",
   "execution_count": null,
   "metadata": {},
   "outputs": [],
   "source": [
    "plot_feasible_region(constraints_sphere, 100)"
   ]
  },
  {
   "cell_type": "code",
   "execution_count": null,
   "metadata": {},
   "outputs": [],
   "source": []
  }
 ],
 "metadata": {
  "language_info": {
   "codemirror_mode": {
    "name": "ipython",
    "version": 3
   },
   "file_extension": ".py",
   "mimetype": "text/x-python",
   "name": "python",
   "nbconvert_exporter": "python",
   "pygments_lexer": "ipython3"
  }
 },
 "nbformat": 4,
 "nbformat_minor": 2
}
