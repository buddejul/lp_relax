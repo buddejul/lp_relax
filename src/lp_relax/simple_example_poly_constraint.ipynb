{
 "cells": [
  {
   "cell_type": "markdown",
   "metadata": {},
   "source": [
    "Note: Not sure if the approach is working when only the complier LATE is identified, since we have many free parameters.\n",
    "Hence, do the simulation for the sharp case.\n",
    "\n",
    "- Maybe we can do a multistart from all $2^{d}$ corner points to avoid local maxima."
   ]
  },
  {
   "cell_type": "code",
   "execution_count": null,
   "metadata": {},
   "outputs": [],
   "source": [
    "%load_ext autoreload\n",
    "%autoreload 2\n",
    "\n",
    "import numpy as np\n",
    "import optimagic as om\n",
    "import pandas as pd\n",
    "import plotly.graph_objects as go\n",
    "\n",
    "from lp_relax.funcs.lp_relax import (\n",
    "    _get_identification_kwargs,\n",
    "    solve_lp_convex,\n",
    ")"
   ]
  },
  {
   "cell_type": "code",
   "execution_count": null,
   "metadata": {},
   "outputs": [],
   "source": [
    "num_points = 1000\n",
    "start = 0.5\n",
    "stop = 1\n",
    "\n",
    "beta_grid = np.linspace(start, stop, num_points)\n",
    "\n",
    "bfunc_type = \"bernstein\"  # \"bernstein\"\n",
    "\n",
    "idestimands = \"sharp\"\n",
    "\n",
    "k_bernstein = 5\n",
    "\n",
    "shape_constraints = {\n",
    "    # \"shape_constraints\": (\"decreasing\", \"decreasing\")\n",
    "}\n",
    "\n",
    "s_to_plot = [10, 20, 50, 100]\n",
    "\n",
    "algorithm = \"scipy_slsqp\"\n",
    "\n",
    "constraint_type = \"sphere\"\n",
    "\n",
    "num_dims = (k_bernstein + 1) * 2"
   ]
  },
  {
   "cell_type": "code",
   "execution_count": null,
   "metadata": {},
   "outputs": [],
   "source": [
    "def solve_model_for_grid_and_slope(s: float, beta_grid: np.ndarray) -> dict:\n",
    "    value_fun = {}\n",
    "\n",
    "    for beta in beta_grid:\n",
    "        identification_kwargs = _get_identification_kwargs(\n",
    "            beta=beta,\n",
    "            bfunc_type=bfunc_type,\n",
    "            shape_constraints=shape_constraints,\n",
    "            idestimands=idestimands,\n",
    "            k_bernstein=k_bernstein,\n",
    "        )\n",
    "\n",
    "        value_fun[beta] = solve_lp_convex(\n",
    "            beta=beta,\n",
    "            algorithm=algorithm,\n",
    "            constraint_type=constraint_type,\n",
    "            s=s,\n",
    "            k_approximation=s,\n",
    "            identification_kwargs=identification_kwargs,\n",
    "        )\n",
    "\n",
    "    return value_fun"
   ]
  },
  {
   "cell_type": "code",
   "execution_count": null,
   "metadata": {},
   "outputs": [],
   "source": [
    "sols_by_s = [solve_model_for_grid_and_slope(s, beta_grid) for s in s_to_plot]"
   ]
  },
  {
   "cell_type": "code",
   "execution_count": null,
   "metadata": {},
   "outputs": [],
   "source": [
    "# Put into single df\n",
    "data = pd.concat(\n",
    "    [\n",
    "        pd.DataFrame(\n",
    "            {\n",
    "                \"s\": s,\n",
    "                \"beta\": list(res.keys()),\n",
    "                \"lp\": [res[beta][\"lp\"] for beta in res],\n",
    "                \"convex\": [res[beta][\"convex\"] for beta in res],\n",
    "            }\n",
    "        )\n",
    "        for s, res in zip(s_to_plot, sols_by_s, strict=False)\n",
    "    ]\n",
    ")"
   ]
  },
  {
   "cell_type": "code",
   "execution_count": null,
   "metadata": {},
   "outputs": [],
   "source": [
    "fig = go.Figure()\n",
    "\n",
    "fig.add_trace(\n",
    "    go.Scatter(\n",
    "        x=data[data[\"s\"] == data[\"s\"].unique()[0]][\"beta\"],\n",
    "        y=data[data[\"s\"] == data[\"s\"].unique()[0]][\"lp\"],\n",
    "        mode=\"lines\",\n",
    "        name=\"LP\",\n",
    "    )\n",
    ")\n",
    "\n",
    "for s in s_to_plot:\n",
    "    data_select = data[data[\"s\"] == s]\n",
    "    fig.add_trace(\n",
    "        go.Scatter(\n",
    "            x=data_select[\"beta\"],\n",
    "            y=data_select[\"convex\"],\n",
    "            mode=\"lines\",\n",
    "            name=f\"Convex, s={s}\",\n",
    "        )\n",
    "    )\n",
    "\n",
    "\n",
    "# Set y range 0, 1\n",
    "fig.update_yaxes(range=[0.2, 1])\n",
    "fig.update_xaxes(range=[0.5, 0.95])\n",
    "\n",
    "fig.show()"
   ]
  },
  {
   "cell_type": "code",
   "execution_count": null,
   "metadata": {},
   "outputs": [],
   "source": [
    "beta = 0.8\n",
    "\n",
    "identification_kwargs = _get_identification_kwargs(\n",
    "    beta=beta,\n",
    "    bfunc_type=\"bernstein\",\n",
    "    shape_constraints=shape_constraints,\n",
    "    idestimands=\"sharp\",\n",
    "    k_bernstein=11,\n",
    ")\n",
    "\n",
    "om_opt = solve_lp_convex(\n",
    "    beta=beta,\n",
    "    algorithm=\"scipy_slsqp\",\n",
    "    constraint_type=\"sphere\",\n",
    "    s=1,\n",
    "    k_approximation=100,\n",
    "    identification_kwargs=identification_kwargs,\n",
    "    return_optimizer=True,\n",
    ")"
   ]
  },
  {
   "cell_type": "code",
   "execution_count": null,
   "metadata": {},
   "outputs": [],
   "source": [
    "res = om_opt(algorithm=\"scipy_slsqp\")\n",
    "res"
   ]
  },
  {
   "cell_type": "code",
   "execution_count": null,
   "metadata": {},
   "outputs": [],
   "source": [
    "om.criterion_plot(res)"
   ]
  }
 ],
 "metadata": {
  "language_info": {
   "codemirror_mode": {
    "name": "ipython",
    "version": 3
   },
   "file_extension": ".py",
   "mimetype": "text/x-python",
   "name": "python",
   "nbconvert_exporter": "python",
   "pygments_lexer": "ipython3"
  }
 },
 "nbformat": 4,
 "nbformat_minor": 2
}
