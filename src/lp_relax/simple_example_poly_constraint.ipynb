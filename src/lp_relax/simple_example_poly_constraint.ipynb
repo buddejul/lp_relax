{
 "cells": [
  {
   "cell_type": "code",
   "execution_count": null,
   "metadata": {},
   "outputs": [],
   "source": [
    "%load_ext autoreload\n",
    "%autoreload 2\n",
    "\n",
    "import numpy as np\n",
    "import pandas as pd\n",
    "import plotly.graph_objects as go\n",
    "\n",
    "from lp_relax.funcs.lp_relax import (\n",
    "    _get_identification_kwargs,\n",
    "    solve_lp_convex,\n",
    ")"
   ]
  },
  {
   "cell_type": "code",
   "execution_count": null,
   "metadata": {},
   "outputs": [],
   "source": [
    "beta_grid = np.sort(np.concatenate((np.zeros(1), np.linspace(-0.2, 0.2, 3))))\n",
    "\n",
    "shape_constraints = {\"shape_constraints\": (\"decreasing\", \"decreasing\")}\n",
    "\n",
    "\n",
    "s_to_plot = [1, 2, 4, 10, 100]"
   ]
  },
  {
   "cell_type": "code",
   "execution_count": null,
   "metadata": {},
   "outputs": [],
   "source": [
    "def solve_model_for_grid_and_slope(s: float, beta_grid: np.ndarray) -> dict:\n",
    "    res = {}\n",
    "\n",
    "    for beta in beta_grid:\n",
    "        identification_kwargs = _get_identification_kwargs(\n",
    "            beta=beta,\n",
    "            bfunc_type=\"constant\",\n",
    "            shape_constraints=shape_constraints,\n",
    "            idestimands=\"idlate\",\n",
    "        )\n",
    "\n",
    "        res[beta] = solve_lp_convex(\n",
    "            beta=beta,\n",
    "            algorithm=\"ipopt\",\n",
    "            constraint_type=\"poly\",\n",
    "            s=s,\n",
    "            identification_kwargs=identification_kwargs,\n",
    "        )\n",
    "\n",
    "    return res"
   ]
  },
  {
   "cell_type": "code",
   "execution_count": null,
   "metadata": {},
   "outputs": [],
   "source": [
    "sols_by_s = [solve_model_for_grid_and_slope(s, beta_grid) for s in s_to_plot]"
   ]
  },
  {
   "cell_type": "code",
   "execution_count": null,
   "metadata": {},
   "outputs": [],
   "source": [
    "# Put into single df\n",
    "data = pd.concat(\n",
    "    [\n",
    "        pd.DataFrame(\n",
    "            {\n",
    "                \"s\": s,\n",
    "                \"beta\": list(res.keys()),\n",
    "                \"lp\": [res[beta][\"lp\"] for beta in res],\n",
    "                \"convex\": [res[beta][\"convex\"] for beta in res],\n",
    "            }\n",
    "        )\n",
    "        for s, res in zip(s_to_plot, sols_by_s, strict=False)\n",
    "    ]\n",
    ")\n",
    "\n",
    "data"
   ]
  },
  {
   "cell_type": "code",
   "execution_count": null,
   "metadata": {},
   "outputs": [],
   "source": [
    "fig = go.Figure()\n",
    "\n",
    "fig.add_trace(\n",
    "    go.Scatter(\n",
    "        x=data[data[\"s\"] == data[\"s\"].unique()[0]][\"beta\"],\n",
    "        y=data[data[\"s\"] == data[\"s\"].unique()[0]][\"lp\"],\n",
    "        mode=\"lines\",\n",
    "        name=\"LP\",\n",
    "    )\n",
    ")\n",
    "\n",
    "for s in s_to_plot:\n",
    "    data_select = data[data[\"s\"] == s]\n",
    "    fig.add_trace(\n",
    "        go.Scatter(\n",
    "            x=data_select[\"beta\"],\n",
    "            y=data_select[\"convex\"],\n",
    "            mode=\"lines\",\n",
    "            name=f\"Convex, s={s}\",\n",
    "        )\n",
    "    )\n",
    "fig.show()"
   ]
  }
 ],
 "metadata": {
  "language_info": {
   "codemirror_mode": {
    "name": "ipython",
    "version": 3
   },
   "file_extension": ".py",
   "mimetype": "text/x-python",
   "name": "python",
   "nbconvert_exporter": "python",
   "pygments_lexer": "ipython3"
  }
 },
 "nbformat": 4,
 "nbformat_minor": 2
}
